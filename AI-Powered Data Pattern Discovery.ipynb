{
 "cells": [
  {
   "cell_type": "code",
   "execution_count": 5,
   "id": "3768904b",
   "metadata": {},
   "outputs": [],
   "source": [
    "import numpy as np\n",
    "import pandas as pd\n",
    "import re\n",
    "import nltk\n",
    "import matplotlib.pyplot as plt\n",
    "import gensim\n",
    "from nltk.data import find\n",
    "import string\n",
    "from nltk.lm.preprocessing import padded_everygram_pipeline\n",
    "from nltk.lm import MLE\n",
    "%matplotlib inline"
   ]
  },
  {
   "cell_type": "code",
   "execution_count": 6,
   "id": "f14e9d57",
   "metadata": {},
   "outputs": [
    {
     "name": "stderr",
     "output_type": "stream",
     "text": [
      "[nltk_data] Downloading package word2vec_sample to\n",
      "[nltk_data]     C:\\Users\\wangs\\AppData\\Roaming\\nltk_data...\n",
      "[nltk_data]   Package word2vec_sample is already up-to-date!\n"
     ]
    },
    {
     "data": {
      "text/plain": [
       "True"
      ]
     },
     "execution_count": 6,
     "metadata": {},
     "output_type": "execute_result"
    }
   ],
   "source": [
    "nltk.download('word2vec_sample')"
   ]
  },
  {
   "cell_type": "code",
   "execution_count": 9,
   "id": "c6459b44",
   "metadata": {},
   "outputs": [],
   "source": [
    "with open('KJV.txt', 'r',encoding='UTF-8') as file:\n",
    "    mydata = file.read()"
   ]
  },
  {
   "cell_type": "code",
   "execution_count": 47,
   "id": "0d1e1427",
   "metadata": {},
   "outputs": [],
   "source": [
    "# Sentence tokenisation\n",
    "mydata_tokens = nltk.sent_tokenize(mydata[2850:])\n",
    "\n",
    "# Remove punctuation\n",
    "mydata_tokens_no_punct = [''.join(letter for letter in word if letter not in string.punctuation and letter not in string.digits) for word in mydata_tokens]\n",
    "\n",
    "# Separate sentences\n",
    "separate_sentences = list((mysent.split() for mysent in mydata_tokens_no_punct))\n"
   ]
  },
  {
   "cell_type": "code",
   "execution_count": 49,
   "id": "5079f320",
   "metadata": {},
   "outputs": [
    {
     "name": "stdout",
     "output_type": "stream",
     "text": [
      "29926\n"
     ]
    }
   ],
   "source": [
    "print(len(separate_sentences))"
   ]
  },
  {
   "cell_type": "code",
   "execution_count": 50,
   "id": "e2aa2317",
   "metadata": {},
   "outputs": [
    {
     "name": "stdout",
     "output_type": "stream",
     "text": [
      "token_len: [53, 83, 55, 52, 83, 62, 50, 110, 142, 36, 51, 123, 119, 170, 169, 51, 264, 126, 193, 52]\n"
     ]
    }
   ],
   "source": [
    "token_len = []\n",
    "for token in mydata_tokens_no_punct :\n",
    "    token_len.append(len(token))\n",
    "print(\"token_len:\", token_len[:20])"
   ]
  },
  {
   "cell_type": "code",
   "execution_count": 172,
   "id": "6eed62d5",
   "metadata": {},
   "outputs": [
    {
     "data": {
      "text/plain": [
       "' And God said Let there be a firmament in the midst of the waters\\nand let it divide the waters from the waters'"
      ]
     },
     "execution_count": 172,
     "metadata": {},
     "output_type": "execute_result"
    }
   ],
   "source": [
    "mydata_tokens_no_punct[7]"
   ]
  },
  {
   "cell_type": "code",
   "execution_count": 61,
   "id": "646cff3d",
   "metadata": {},
   "outputs": [
    {
     "data": {
      "text/plain": [
       "<seaborn.axisgrid.FacetGrid at 0x22bdfa77f10>"
      ]
     },
     "execution_count": 61,
     "metadata": {},
     "output_type": "execute_result"
    },
    {
     "data": {
      "image/png": "[encoded data removed]",
      "text/plain": [
       "<Figure size 360x360 with 1 Axes>"
      ]
     },
     "metadata": {
      "needs_background": "light"
     },
     "output_type": "display_data"
    }
   ],
   "source": [
    "import seaborn\n",
    "seaborn.displot(token_len,kde= False, rug= True,\n",
    "               color=\"#098154\")"
   ]
  },
  {
   "cell_type": "code",
   "execution_count": 81,
   "id": "786c280d",
   "metadata": {},
   "outputs": [
    {
     "name": "stderr",
     "output_type": "stream",
     "text": [
      "[nltk_data] Downloading package vader_lexicon to\n",
      "[nltk_data]     C:\\Users\\wangs\\AppData\\Roaming\\nltk_data...\n",
      "[nltk_data]   Package vader_lexicon is already up-to-date!\n"
     ]
    },
    {
     "data": {
      "text/plain": [
       "True"
      ]
     },
     "execution_count": 81,
     "metadata": {},
     "output_type": "execute_result"
    }
   ],
   "source": [
    "from nltk.sentiment import SentimentIntensityAnalyzer\n",
    "nltk.download('vader_lexicon')\n"
   ]
  },
  {
   "cell_type": "code",
   "execution_count": 184,
   "id": "11c32e8f",
   "metadata": {},
   "outputs": [
    {
     "data": {
      "text/plain": [
       "'In the beginning God created the heaven and the earth'"
      ]
     },
     "execution_count": 184,
     "metadata": {},
     "output_type": "execute_result"
    }
   ],
   "source": [
    "mydata_tokens_no_punct[0]"
   ]
  },
  {
   "cell_type": "code",
   "execution_count": 186,
   "id": "4d72ce05",
   "metadata": {},
   "outputs": [
    {
     "data": {
      "text/plain": [
       "0.7506"
      ]
     },
     "execution_count": 186,
     "metadata": {},
     "output_type": "execute_result"
    }
   ],
   "source": [
    "analyzer.polarity_scores(mydata_tokens_no_punct[0])['compound']"
   ]
  },
  {
   "cell_type": "code",
   "execution_count": 199,
   "id": "bee3b70d",
   "metadata": {},
   "outputs": [
    {
     "data": {
      "text/plain": [
       "-0.9209"
      ]
     },
     "execution_count": 199,
     "metadata": {},
     "output_type": "execute_result"
    }
   ],
   "source": [
    "text=\"But if he thrust him of hatred, or hurl at him by laying of wait, that he die;\"\n",
    "analyzer.polarity_scores(text)['compound']"
   ]
  },
  {
   "cell_type": "code",
   "execution_count": 107,
   "id": "fab76b85",
   "metadata": {},
   "outputs": [],
   "source": [
    "score =[]\n",
    "pos = []\n",
    "analyzer = SentimentIntensityAnalyzer()\n",
    "for sent in mydata_tokens_no_punct:\n",
    "      score.append(analyzer.polarity_scores(sent)['compound'])\n",
    "      pos.append(analyzer.polarity_scores(sent)['pos'])"
   ]
  },
  {
   "cell_type": "code",
   "execution_count": 193,
   "id": "0a01878a",
   "metadata": {},
   "outputs": [
    {
     "name": "stdout",
     "output_type": "stream",
     "text": [
      "-0.9888\n"
     ]
    },
    {
     "data": {
      "text/plain": [
       "' But if he thrust him of hatred or hurl at him by laying of\\nwait that he die  Or in enmity smite him with his hand that he\\ndie he that smote him shall surely be put to death for he is a\\nmurderer the revenger of blood shall slay the murderer when he\\nmeeteth him'"
      ]
     },
     "execution_count": 193,
     "metadata": {},
     "output_type": "execute_result"
    }
   ],
   "source": [
    "print(min(score))\n",
    "maxpos = score.index(min(score))\n",
    "mydata_tokens_no_punct[maxpos]"
   ]
  },
  {
   "cell_type": "code",
   "execution_count": 121,
   "id": "9f73d3a4",
   "metadata": {},
   "outputs": [
    {
     "data": {
      "text/plain": [
       "<matplotlib.legend.Legend at 0x22bfc2b9ee0>"
      ]
     },
     "execution_count": 121,
     "metadata": {},
     "output_type": "execute_result"
    },
    {
     "data": {
      "image/png": "[encoded data removed]",
      "text/plain": [
       "<Figure size 540x360 with 1 Axes>"
      ]
     },
     "metadata": {
      "needs_background": "light"
     },
     "output_type": "display_data"
    }
   ],
   "source": [
    "\n",
    "ax1=seaborn.displot(score,kde= False, rug=False,aspect=1.5,\n",
    "               color=\"#098154\",bins=30)\n",
    "ax1.set_axis_labels(\"compound score\", \"count\")\n",
    "ax1.set_titles(\"sentiment intensity for each sentence in KJV\")\n",
    "fig.legend(labels=[\"AAA\"])\n",
    "\n"
   ]
  },
  {
   "cell_type": "code",
   "execution_count": 128,
   "id": "3726b997",
   "metadata": {},
   "outputs": [
    {
     "name": "stdout",
     "output_type": "stream",
     "text": [
      "['In', 'the', 'beginning', 'God', 'created', 'the', 'heaven', 'and', 'the', 'earth']\n"
     ]
    }
   ],
   "source": [
    "mydata_tokens_no_punct[0]\n",
    "print(separate_sentences[0])"
   ]
  },
  {
   "cell_type": "code",
   "execution_count": 129,
   "id": "a0304b69",
   "metadata": {},
   "outputs": [],
   "source": [
    "# 中间层 默认100\n",
    "#window (int, optional) – Maximum distance between the current and predicted word\n",
    "#min_count (int, optional) – Ignores all words with total frequency lower than this.\n",
    "#vector_size (int, optional) – Dimensionality of the word vectors.  100\n",
    "\n",
    "min_count (int, optional) – Ignores all words with total frequency lower than this.\n",
    "model = gensim.models.Word2Vec(\n",
    "    separate_sentences,\n",
    "    min_count=3,  \n",
    "    sg = 1,       \n",
    "    window=7      \n",
    ")       \n",
    "\n",
    "model.save(\"word2vec.model\")"
   ]
  },
  {
   "cell_type": "code",
   "execution_count": 142,
   "id": "be743f5d",
   "metadata": {},
   "outputs": [
    {
     "name": "stderr",
     "output_type": "stream",
     "text": [
      "C:\\Users\\wangs\\anaconda3\\lib\\site-packages\\seaborn\\_decorators.py:36: FutureWarning: Pass the following variables as keyword args: x, y. From version 0.12, the only valid positional argument will be `data`, and passing other arguments without an explicit keyword will result in an error or misinterpretation.\n",
      "  warnings.warn(\n"
     ]
    },
    {
     "data": {
      "text/plain": [
       "(array([0, 1, 2, 3, 4, 5, 6, 7, 8, 9]),\n",
       " [Text(0, 0, 'Saviour'),\n",
       "  Text(1, 0, 'redeemer'),\n",
       "  Text(2, 0, 'excellency'),\n",
       "  Text(3, 0, 'Father'),\n",
       "  Text(4, 0, 'holiness'),\n",
       "  Text(5, 0, 'magnified'),\n",
       "  Text(6, 0, 'gracious'),\n",
       "  Text(7, 0, 'heavenly'),\n",
       "  Text(8, 0, 'Bless'),\n",
       "  Text(9, 0, 'glorify')])"
      ]
     },
     "execution_count": 142,
     "metadata": {},
     "output_type": "execute_result"
    },
    {
     "data": {
      "image/png": "[encoded data removed]",
      "text/plain": [
       "<Figure size 432x288 with 1 Axes>"
      ]
     },
     "metadata": {
      "needs_background": "light"
     },
     "output_type": "display_data"
    }
   ],
   "source": [
    "list_god = model.wv.most_similar('God')\n",
    "x_val = [x[0] for x in list_god ]\n",
    "y_val = [x[1] for x in list_god ]\n",
    "seaborn.barplot(x_val,y_val)\n",
    "plt.ylim([0,1])\n",
    "plt.title(\"words most similar to God\")\n",
    "plt.ylabel(\"similarity\")\n",
    "plt.xticks(rotation=45, ha='right')"
   ]
  },
  {
   "cell_type": "code",
   "execution_count": 148,
   "id": "48e30b05",
   "metadata": {},
   "outputs": [
    {
     "name": "stderr",
     "output_type": "stream",
     "text": [
      "C:\\Users\\wangs\\anaconda3\\lib\\site-packages\\seaborn\\_decorators.py:36: FutureWarning: Pass the following variables as keyword args: x, y. From version 0.12, the only valid positional argument will be `data`, and passing other arguments without an explicit keyword will result in an error or misinterpretation.\n",
      "  warnings.warn(\n"
     ]
    },
    {
     "data": {
      "text/plain": [
       "(array([0, 1, 2, 3, 4, 5, 6, 7, 8, 9]),\n",
       " [Text(0, 0, 'Christ'),\n",
       "  Text(1, 0, 'John'),\n",
       "  Text(2, 0, 'Nazareth'),\n",
       "  Text(3, 0, 'Lord'),\n",
       "  Text(4, 0, 'Paul'),\n",
       "  Text(5, 0, 'baptism'),\n",
       "  Text(6, 0, 'Esaias'),\n",
       "  Text(7, 0, 'gospel'),\n",
       "  Text(8, 0, 'Peter'),\n",
       "  Text(9, 0, 'resurrection')])"
      ]
     },
     "execution_count": 148,
     "metadata": {},
     "output_type": "execute_result"
    },
    {
     "data": {
      "image/png": "[encoded data removed]",
      "text/plain": [
       "<Figure size 432x288 with 1 Axes>"
      ]
     },
     "metadata": {
      "needs_background": "light"
     },
     "output_type": "display_data"
    }
   ],
   "source": [
    "list_god2 = model.wv.most_similar('Jesus')\n",
    "x_val = [x[0] for x in list_god2 ]\n",
    "y_val = [x[1] for x in list_god2 ]\n",
    "seaborn.barplot(x_val,y_val)\n",
    "plt.ylim([0,1])\n",
    "plt.title(\"words most similar to Jesus\")\n",
    "plt.ylabel(\"similarity\")\n",
    "plt.xticks(rotation=45, ha='right')"
   ]
  },
  {
   "cell_type": "code",
   "execution_count": 157,
   "id": "7bad458d",
   "metadata": {},
   "outputs": [
    {
     "name": "stdout",
     "output_type": "stream",
     "text": [
      "7517\n"
     ]
    },
    {
     "data": {
      "text/plain": [
       "100"
      ]
     },
     "execution_count": 157,
     "metadata": {},
     "output_type": "execute_result"
    }
   ],
   "source": [
    "#total number of keys (words)\n",
    "print(len(model.wv.key_to_index))\n",
    "len(model.wv.get_vector(\"and\"))"
   ]
  },
  {
   "cell_type": "code",
   "execution_count": 167,
   "id": "da346233",
   "metadata": {},
   "outputs": [],
   "source": [
    "#save the model for visualization\n",
    "model.wv.save_word2vec_format(\"model-bible\")\n",
    "# python -m gensim.scripts.word2vec2tensor -i \"model-bible\" -o \"vis.tsv\""
   ]
  },
  {
   "cell_type": "code",
   "execution_count": 155,
   "id": "6420619b",
   "metadata": {},
   "outputs": [
    {
     "name": "stdout",
     "output_type": "stream",
     "text": [
      "(7517, 100)\n"
     ]
    },
    {
     "data": {
      "text/html": [
       "<div>\n",
       "<style scoped>\n",
       "    .dataframe tbody tr th:only-of-type {\n",
       "        vertical-align: middle;\n",
       "    }\n",
       "\n",
       "    .dataframe tbody tr th {\n",
       "        vertical-align: top;\n",
       "    }\n",
       "\n",
       "    .dataframe thead th {\n",
       "        text-align: right;\n",
       "    }\n",
       "</style>\n",
       "<table border=\"1\" class=\"dataframe\">\n",
       "  <thead>\n",
       "    <tr style=\"text-align: right;\">\n",
       "      <th></th>\n",
       "      <th>0</th>\n",
       "      <th>1</th>\n",
       "      <th>2</th>\n",
       "      <th>3</th>\n",
       "      <th>4</th>\n",
       "      <th>5</th>\n",
       "      <th>6</th>\n",
       "      <th>7</th>\n",
       "      <th>8</th>\n",
       "      <th>9</th>\n",
       "      <th>...</th>\n",
       "      <th>90</th>\n",
       "      <th>91</th>\n",
       "      <th>92</th>\n",
       "      <th>93</th>\n",
       "      <th>94</th>\n",
       "      <th>95</th>\n",
       "      <th>96</th>\n",
       "      <th>97</th>\n",
       "      <th>98</th>\n",
       "      <th>99</th>\n",
       "    </tr>\n",
       "  </thead>\n",
       "  <tbody>\n",
       "    <tr>\n",
       "      <th>the</th>\n",
       "      <td>-0.309155</td>\n",
       "      <td>0.096468</td>\n",
       "      <td>-0.018805</td>\n",
       "      <td>0.011734</td>\n",
       "      <td>-0.105480</td>\n",
       "      <td>-0.324874</td>\n",
       "      <td>0.106005</td>\n",
       "      <td>0.284246</td>\n",
       "      <td>-0.224674</td>\n",
       "      <td>-0.073091</td>\n",
       "      <td>...</td>\n",
       "      <td>0.218618</td>\n",
       "      <td>0.083706</td>\n",
       "      <td>0.029178</td>\n",
       "      <td>-0.025573</td>\n",
       "      <td>0.360864</td>\n",
       "      <td>-0.064455</td>\n",
       "      <td>-0.155625</td>\n",
       "      <td>-0.056670</td>\n",
       "      <td>-0.140325</td>\n",
       "      <td>0.126848</td>\n",
       "    </tr>\n",
       "    <tr>\n",
       "      <th>and</th>\n",
       "      <td>-0.086922</td>\n",
       "      <td>-0.108565</td>\n",
       "      <td>0.021022</td>\n",
       "      <td>0.358653</td>\n",
       "      <td>0.135519</td>\n",
       "      <td>-0.199557</td>\n",
       "      <td>-0.057790</td>\n",
       "      <td>0.125324</td>\n",
       "      <td>-0.154618</td>\n",
       "      <td>-0.198924</td>\n",
       "      <td>...</td>\n",
       "      <td>-0.265803</td>\n",
       "      <td>-0.002721</td>\n",
       "      <td>0.120559</td>\n",
       "      <td>-0.235726</td>\n",
       "      <td>0.392809</td>\n",
       "      <td>0.172294</td>\n",
       "      <td>0.000871</td>\n",
       "      <td>-0.202322</td>\n",
       "      <td>0.288671</td>\n",
       "      <td>0.182637</td>\n",
       "    </tr>\n",
       "    <tr>\n",
       "      <th>of</th>\n",
       "      <td>-0.236709</td>\n",
       "      <td>0.010503</td>\n",
       "      <td>-0.000077</td>\n",
       "      <td>0.065543</td>\n",
       "      <td>-0.194204</td>\n",
       "      <td>-0.033900</td>\n",
       "      <td>0.164305</td>\n",
       "      <td>0.158873</td>\n",
       "      <td>-0.311080</td>\n",
       "      <td>-0.041881</td>\n",
       "      <td>...</td>\n",
       "      <td>0.020442</td>\n",
       "      <td>0.175185</td>\n",
       "      <td>0.193902</td>\n",
       "      <td>-0.427396</td>\n",
       "      <td>0.328254</td>\n",
       "      <td>0.081994</td>\n",
       "      <td>-0.017059</td>\n",
       "      <td>-0.435176</td>\n",
       "      <td>0.129639</td>\n",
       "      <td>0.147547</td>\n",
       "    </tr>\n",
       "    <tr>\n",
       "      <th>to</th>\n",
       "      <td>-0.416115</td>\n",
       "      <td>-0.113385</td>\n",
       "      <td>0.344330</td>\n",
       "      <td>0.379241</td>\n",
       "      <td>0.169008</td>\n",
       "      <td>-0.116850</td>\n",
       "      <td>0.066831</td>\n",
       "      <td>0.226120</td>\n",
       "      <td>-0.018680</td>\n",
       "      <td>-0.185404</td>\n",
       "      <td>...</td>\n",
       "      <td>0.044700</td>\n",
       "      <td>0.285635</td>\n",
       "      <td>0.112024</td>\n",
       "      <td>0.170323</td>\n",
       "      <td>0.858911</td>\n",
       "      <td>-0.208007</td>\n",
       "      <td>0.046810</td>\n",
       "      <td>-0.018324</td>\n",
       "      <td>-0.030604</td>\n",
       "      <td>0.203368</td>\n",
       "    </tr>\n",
       "    <tr>\n",
       "      <th>And</th>\n",
       "      <td>-0.262893</td>\n",
       "      <td>0.285384</td>\n",
       "      <td>0.364286</td>\n",
       "      <td>0.350863</td>\n",
       "      <td>0.105281</td>\n",
       "      <td>-0.089379</td>\n",
       "      <td>0.056293</td>\n",
       "      <td>0.111550</td>\n",
       "      <td>0.268709</td>\n",
       "      <td>0.277015</td>\n",
       "      <td>...</td>\n",
       "      <td>0.434780</td>\n",
       "      <td>-0.284028</td>\n",
       "      <td>0.228997</td>\n",
       "      <td>-0.270701</td>\n",
       "      <td>0.539170</td>\n",
       "      <td>-0.351453</td>\n",
       "      <td>0.173049</td>\n",
       "      <td>0.073293</td>\n",
       "      <td>0.325971</td>\n",
       "      <td>0.422446</td>\n",
       "    </tr>\n",
       "  </tbody>\n",
       "</table>\n",
       "<p>5 rows × 100 columns</p>\n",
       "</div>"
      ],
      "text/plain": [
       "           0         1         2         3         4         5         6   \\\n",
       "the -0.309155  0.096468 -0.018805  0.011734 -0.105480 -0.324874  0.106005   \n",
       "and -0.086922 -0.108565  0.021022  0.358653  0.135519 -0.199557 -0.057790   \n",
       "of  -0.236709  0.010503 -0.000077  0.065543 -0.194204 -0.033900  0.164305   \n",
       "to  -0.416115 -0.113385  0.344330  0.379241  0.169008 -0.116850  0.066831   \n",
       "And -0.262893  0.285384  0.364286  0.350863  0.105281 -0.089379  0.056293   \n",
       "\n",
       "           7         8         9   ...        90        91        92  \\\n",
       "the  0.284246 -0.224674 -0.073091  ...  0.218618  0.083706  0.029178   \n",
       "and  0.125324 -0.154618 -0.198924  ... -0.265803 -0.002721  0.120559   \n",
       "of   0.158873 -0.311080 -0.041881  ...  0.020442  0.175185  0.193902   \n",
       "to   0.226120 -0.018680 -0.185404  ...  0.044700  0.285635  0.112024   \n",
       "And  0.111550  0.268709  0.277015  ...  0.434780 -0.284028  0.228997   \n",
       "\n",
       "           93        94        95        96        97        98        99  \n",
       "the -0.025573  0.360864 -0.064455 -0.155625 -0.056670 -0.140325  0.126848  \n",
       "and -0.235726  0.392809  0.172294  0.000871 -0.202322  0.288671  0.182637  \n",
       "of  -0.427396  0.328254  0.081994 -0.017059 -0.435176  0.129639  0.147547  \n",
       "to   0.170323  0.858911 -0.208007  0.046810 -0.018324 -0.030604  0.203368  \n",
       "And -0.270701  0.539170 -0.351453  0.173049  0.073293  0.325971  0.422446  \n",
       "\n",
       "[5 rows x 100 columns]"
      ]
     },
     "execution_count": 155,
     "metadata": {},
     "output_type": "execute_result"
    }
   ],
   "source": [
    "emb_df = (\n",
    "    pd.DataFrame(\n",
    "        [model.wv.get_vector(str(n)) for n in model.wv.key_to_index],\n",
    "        index = model.wv.key_to_index\n",
    "    )\n",
    ")\n",
    "print(emb_df.shape)\n",
    "emb_df.head()"
   ]
  },
  {
   "cell_type": "code",
   "execution_count": 159,
   "id": "5c8bb2dc",
   "metadata": {},
   "outputs": [],
   "source": [
    "#use pca to visualize words\n",
    "\n",
    "from sklearn.decomposition import PCA\n",
    "pca = PCA(n_components=2, random_state=7)\n"
   ]
  },
  {
   "cell_type": "code",
   "execution_count": 160,
   "id": "c9b37eed",
   "metadata": {},
   "outputs": [],
   "source": [
    "pca_model = pca.fit_transform(emb_df)"
   ]
  },
  {
   "cell_type": "code",
   "execution_count": 161,
   "id": "f2beb4b0",
   "metadata": {},
   "outputs": [],
   "source": [
    "emb_df_PCA = (\n",
    "    pd.DataFrame(\n",
    "        pca_model,\n",
    "        columns=['x','y'],\n",
    "        index = emb_df.index\n",
    "    )\n",
    ")\n"
   ]
  },
  {
   "cell_type": "code",
   "execution_count": 75,
   "id": "9aa80a5f",
   "metadata": {},
   "outputs": [
    {
     "name": "stdout",
     "output_type": "stream",
     "text": [
      "<NgramCounter with 2 ngram orders and 61 ngrams>\n"
     ]
    },
    {
     "data": {
      "text/plain": [
       "<generator object padded_everygram_pipeline.<locals>.<genexpr> at 0x0000022BEFD1D2E0>"
      ]
     },
     "execution_count": 75,
     "metadata": {},
     "output_type": "execute_result"
    }
   ],
   "source": [
    "from nltk import word_tokenize\n",
    "from nltk.lm import MLE\n",
    "from nltk.lm.preprocessing import pad_both_ends, padded_everygram_pipeline\n",
    "\n",
    "s = \"Natural-language processing (NLP) is an area of computer science \" \\\n",
    "    \"and artificial intelligence concerned with the interactions \" \\\n",
    "    \"between computers and human (natural) languages.\"\n",
    "s = s.lower()\n",
    "\n",
    "paddedLine = [list(pad_both_ends(word_tokenize(s), n=2))]\n",
    "\n",
    "train, vocab = padded_everygram_pipeline(2, paddedLine)\n",
    "\n",
    "lm = MLE(2)\n",
    "\n",
    "lm.fit(train, vocab)\n",
    "\n",
    "print(lm.counts)\n",
    "train"
   ]
  },
  {
   "cell_type": "code",
   "execution_count": 166,
   "id": "8a255af9",
   "metadata": {},
   "outputs": [],
   "source": [
    "python -m gensim.scripts.word2vec2tensor -i ~/gensim-data/glove-wiki-gigaword-50/glove-wiki-gigaword-50.gz                                              -o /tmp/my_model_prefix"
   ]
  },
  {
   "cell_type": "code",
   "execution_count": 163,
   "id": "cd5d44e7",
   "metadata": {},
   "outputs": [
    {
     "data": {
      "text/plain": [
       "[]"
      ]
     },
     "execution_count": 163,
     "metadata": {},
     "output_type": "execute_result"
    },
    {
     "data": {
      "text/plain": [
       "<Figure size 432x288 with 0 Axes>"
      ]
     },
     "metadata": {},
     "output_type": "display_data"
    },
    {
     "data": {
      "image/png": "[encoded data removed]",
      "text/plain": [
       "<Figure size 432x288 with 1 Axes>"
      ]
     },
     "metadata": {
      "needs_background": "light"
     },
     "output_type": "display_data"
    }
   ],
   "source": [
    "\n",
    "plt.clf()\n",
    "fig = plt.figure(figsize=(6,4))\n",
    "\n",
    "seaborn.scatterplot(\n",
    "    x = emb_df_PCA['x'],\n",
    "    y = emb_df_PCA['y'],\n",
    "    s = 0.4,\n",
    "    color = 'maroon',\n",
    "    alpha = 0.5\n",
    ")\n",
    "\n",
    "plt.xlabel('PCA-1')\n",
    "plt.ylabel('PCA-2')\n",
    "plt.title('PCA Visualization')\n",
    "plt.plot()"
   ]
  }
 ],
 "metadata": {
  "kernelspec": {
   "display_name": "Python 3 (ipykernel)",
   "language": "python",
   "name": "python3"
  },
  "language_info": {
   "codemirror_mode": {
    "name": "ipython",
    "version": 3
   },
   "file_extension": ".py",
   "mimetype": "text/x-python",
   "name": "python",
   "nbconvert_exporter": "python",
   "pygments_lexer": "ipython3",
   "version": "3.9.13"
  }
 },
 "nbformat": 4,
 "nbformat_minor": 5
}
